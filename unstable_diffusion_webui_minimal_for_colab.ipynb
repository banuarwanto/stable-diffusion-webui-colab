{
 "cells": [
  {
   "cell_type": "markdown",
   "metadata": {},
   "source": [
    "# ✅ Unstable Diffusion WebUI – Minimal Setup\n",
    "Compatible: pip==23.2.1, Python 3.10"
   ]
  },
  {
   "cell_type": "code",
   "execution_count": null,
   "metadata": {},
   "outputs": [],
   "source": [
    "# STEP 1: Downgrade pip agar stabil (hindari pip 24 crash)
",
    "!pip install pip==23.2.1
",
    "import os
",
    "os.kill(os.getpid(), 9)"
   ]
  },
  {
   "cell_type": "code",
   "execution_count": null,
   "metadata": {},
   "outputs": [],
   "source": [
    "# STEP 2: Install dependency Torch yang sesuai (untuk Python 3.10)
",
    "!pip install -q torch==2.1.2 torchvision==0.16.2 torchaudio==2.1.2 --index-url https://download.pytorch.org/whl/cu118"
   ]
  },
  {
   "cell_type": "code",
   "execution_count": null,
   "metadata": {},
   "outputs": [],
   "source": [
    "# STEP 3: Clone repo AUTOMATIC1111 WebUI (hapus dulu jika sudah ada)
",
    "!rm -rf /content/stable-diffusion-webui
",
    "!git clone https://github.com/AUTOMATIC1111/stable-diffusion-webui
",
    "%cd /content/stable-diffusion-webui"
   ]
  },
  {
   "cell_type": "code",
   "execution_count": null,
   "metadata": {},
   "outputs": [],
   "source": [
    "# STEP 4: Jalankan WebUI (default model dan argument minimal)
",
    "!COMMANDLINE_ARGS="--share --xformers" python launch.py"
   ]
  }
 ],
 "metadata": {
  "kernelspec": {
   "display_name": "Python 3",
   "language": "python",
   "name": "python3"
  },
  "language_info": {
   "name": "python",
   "version": ""
  }
 },
 "nbformat": 4,
 "nbformat_minor": 0
}