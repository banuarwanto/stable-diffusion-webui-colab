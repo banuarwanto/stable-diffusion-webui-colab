Unstable Diffusion WebUI - Final Clean Version

Langkah 1: Persiapan environment

!pip install --upgrade pip==23.1 !pip install virtualenv

Langkah 2: Clone repositori Unstable Diffusion (contoh ringan, sesuaikan jika ada repo lain)

!git clone https://github.com/USERNAME/unstable-diffusion-lite.git %cd unstable-diffusion-lite

Langkah 3: Install dependensi Python

!pip install -r requirements.txt

Langkah 4: Jalankan WebUI

!python app.py  # Atau ganti dengan entry point yang benar jika berbeda

Catatan:

- Ganti "USERNAME" dengan nama akun GitHub kamu

- Pastikan requirements.txt ada di dalam repo tersebut

- Jika app.py berbeda namanya (misalnya main.py), sesuaikan baris terakhir

