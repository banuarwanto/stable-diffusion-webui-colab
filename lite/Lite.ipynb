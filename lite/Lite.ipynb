{
  "cells": [
    {
      "cell_type": "markdown",
      "metadata": {},
      "source": [
        "# ✅ Stable Diffusion WebUI Lite - Custom Fork\n",
        "Jalankan sel di bawah ini untuk menjalankan Stable Diffusion WebUI di Google Colab."
      ]
    },
    {
      "cell_type": "code",
      "execution_count": null,
      "metadata": {},
      "outputs": [],
      "source": [
        "# STEP 1: Downgrade pip agar tidak error\n",
        "!pip install pip==23.2.1\n",
        "import os\n",
        "os.kill(os.getpid(), 9)"
      ]
    },
    {
      "cell_type": "code",
      "execution_count": null,
      "metadata": {},
      "outputs": [],
      "source": [
        "# STEP 2: Install dependensi penting yg cocok Python 3.10-3.11\n",
        "!pip install -q torch==2.0.1 torchvision==0.15.2 torchaudio==2.0.2\n",
        "!pip install -q pytorch_lightning==2.0.1"
      ]
    },
    {
      "cell_type": "code",
      "execution_count": null,
      "metadata": {},
      "outputs": [],
      "source": [
        "# STEP 3: Clone repo WebUI\n",
        "!git clone https://github.com/camenduru/stable-diffusion-webui /content/stable-diffusion-webui\n",
        "%cd /content/stable-diffusion-webui"
      ]
    },
    {
      "cell_type": "code",
      "execution_count": null,
      "metadata": {},
      "outputs": [],
      "source": [
        "# STEP 4: Jalankan WebUI dengan argumen lite\n",
        "!COMMANDLINE_ARGS=\"--share --xformers\" python launch.py"
      ]
    }
  ],
  "metadata": {
    "colab": {
      "name": "lite.ipynb",
      "provenance": []
    },
    "kernelspec": {
      "display_name": "Python 3",
      "language": "python",
      "name": "python3"
    },
    "language_info": {
      "name": "python"
    }
  },
  "nbformat": 4,
  "nbformat_minor": 0
}
