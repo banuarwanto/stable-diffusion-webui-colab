
{
 "cells": [
  {
   "cell_type": "markdown",
   "metadata": {},
   "source": [
    "# AnimateDiff NSFW Colab Notebook\n",
    "This notebook generates short video animations from a single NSFW image using AnimateDiff and a Stable Diffusion NSFW-compatible model."
   ]
  },
  {
   "cell_type": "code",
   "execution_count": null,
   "metadata": {},
   "outputs": [],
   "source": [
    "# 1. Setup Environment\n",
    "!pip install -q diffusers transformers accelerate xformers einops safetensors\n",
    "!apt -q install ffmpeg -y"
   ]
  },
  {
   "cell_type": "code",
   "execution_count": null,
   "metadata": {},
   "outputs": [],
   "source": [
    "# 2. Import and Load NSFW Model (Anything V5 or MajicMix)\n",
    "from diffusers import StableDiffusionPipeline\n",
    "import torch\n",
    "\n",
    "model_id = "andite/anything-v5.0"  # or use MajicMix\n",
    "pipe = StableDiffusionPipeline.from_pretrained(model_id, torch_dtype=torch.float16, safety_checker=None)\n",
    "pipe = pipe.to("cuda")"
   ]
  },
  {
   "cell_type": "code",
   "execution_count": null,
   "metadata": {},
   "outputs": [],
   "source": [
    "# 3. Upload or Generate Image\n",
    "from PIL import Image\n",
    "from IPython.display import display\n",
    "import io\n",
    "from google.colab import files\n",
    "\n",
    "uploaded = files.upload()\n",
    "image_path = list(uploaded.keys())[0]\n",
    "image = Image.open(image_path).convert("RGB")\n",
    "display(image)"
   ]
  },
  {
   "cell_type": "code",
   "execution_count": null,
   "metadata": {},
   "outputs": [],
   "source": [
    "# 4. AnimateDiff Setup (simple frame generator placeholder)\n",
    "# Note: This is a placeholder. Real AnimateDiff needs motion module\n",
    "# Here we fake a simple zoom effect as placeholder\n",
    "import os\n",
    "os.makedirs("outputs", exist_ok=True)\n",
    "\n",
    "frames = []\n",
    "for i in range(16):\n",
    "    frame = image.resize((512 + i * 4, 512 + i * 4))\n",
    "    frame = frame.crop((i * 2, i * 2, 512 + i * 2, 512 + i * 2))\n",
    "    frame_path = f"outputs/frame_{i:03d}.png"\n",
    "    frame.save(frame_path)\n",
    "    frames.append(frame_path)"
   ]
  },
  {
   "cell_type": "code",
   "execution_count": null,
   "metadata": {},
   "outputs": [],
   "source": [
    "# 5. Convert Frames to MP4\n",
    "!ffmpeg -y -framerate 8 -i outputs/frame_%03d.png -c:v libx264 -pix_fmt yuv420p outputs/output_video.mp4\n",
    "from IPython.display import Video\n",
    "Video("outputs/output_video.mp4", embed=True)"
   ]
  }
 ],
 "metadata": {
  "colab": {
   "provenance": []
  },
  "kernelspec": {
   "display_name": "Python 3",
   "language": "python",
   "name": "python3"
  },
  "language_info": {
   "name": "python"
  }
 },
 "nbformat": 4,
 "nbformat_minor": 0
}
