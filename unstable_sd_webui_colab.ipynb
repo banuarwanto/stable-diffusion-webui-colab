✅ Stable Diffusion WebUI - Unstable Version

Versi aman: pip==23.2.1, Python 3.10

STEP 1: Downgrade pip agar tidak error

!pip install pip==23.2.1 import os os.kill(os.getpid(), 9)  # Restart runtime

STEP 2: Install dependensi penting yang kompatibel

!pip install -q torch==2.0.1 torchvision==0.15.2 torchaudio==2.0.2 !pip install -q pytorch_lightning==2.0.2

STEP 3: Clone repo WebUI unstable dan jalankan foldernya

!git clone https://github.com/camenduru/stable-diffusion-webui-unstable %cd stable-diffusion-webui-unstable

STEP 4: Launch WebUI dengan argumen

!COMMANDLINE_ARGS="--share --xformers" python launch.py

